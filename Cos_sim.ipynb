{
 "cells": [
  {
   "cell_type": "code",
   "execution_count": 35,
   "metadata": {},
   "outputs": [],
   "source": [
    "import numpy as np\n",
    "import pandas as pd\n",
    "\n",
    "df = pd.read_csv(\"test_data/data_ori2.csv\")    #원본파일\n",
    "df1 = pd.read_csv(\"test_data/data_created.csv\")   #비식별파일\n",
    "\n",
    "#일련번호순으로 정렬\n",
    "s_df = df.sort_values(by='일련번호') #index는 일련번호의미\n",
    "s_df1 = df1.sort_values(by='일련번호')\n",
    "\n",
    "#컬럼지정\n",
    "interest_column = pd.Series(['신용대출한도','월소득']) #원하는 열 선택\n",
    "\n",
    "#삭제된 행 처리\n",
    "deleted_rows = list(set(s_df['일련번호']) - set(s_df1['일련번호']))\n",
    "\n",
    "\n",
    "deleted_rows.sort()\n",
    "j=0\n",
    "count = -1\n",
    "deleted_index=[]\n",
    "#del s_df.loc[:,s_df['일련번호']==deleted_rows]\n",
    "for i in s_df['일련번호']:\n",
    "    count = count + 1\n",
    "    if i == deleted_rows[j]:\n",
    "        deleted_index.append(count)\n",
    "        j = j + 1\n",
    "        deleted_index\n",
    "        if j>k:\n",
    "            break\n",
    "        continue\n",
    "s_df = s_df.drop(deleted_index)"
   ]
  },
  {
   "cell_type": "code",
   "execution_count": 36,
   "metadata": {},
   "outputs": [],
   "source": [
    "#컬럼별 연산\n",
    "cos = {}\n",
    "for i in interest_column:\n",
    "    dot = np.dot(s_df[i], s_df1[i])\n",
    "    norma = np.linalg.norm(s_df[i])\n",
    "    normb = np.linalg.norm(s_df1[i])\n",
    "    cos[i] = dot / (norma * normb)"
   ]
  },
  {
   "cell_type": "code",
   "execution_count": 37,
   "metadata": {},
   "outputs": [
    {
     "data": {
      "text/plain": [
       "{'신용대출한도': 0.9999218510079594, '월소득': 0.9996034263990563}"
      ]
     },
     "execution_count": 37,
     "metadata": {},
     "output_type": "execute_result"
    }
   ],
   "source": [
    "\n",
    "#컬럼별 결과 출력\n",
    "cos\n",
    "\n",
    "#최적의 결과 제공"
   ]
  },
  {
   "cell_type": "code",
   "execution_count": 10,
   "metadata": {},
   "outputs": [
    {
     "data": {
      "text/plain": [
       "0.9996022433325591"
      ]
     },
     "execution_count": 10,
     "metadata": {},
     "output_type": "execute_result"
    }
   ],
   "source": [
    "0.9996022433325591"
   ]
  },
  {
   "cell_type": "code",
   "execution_count": null,
   "metadata": {},
   "outputs": [],
   "source": []
  }
 ],
 "metadata": {
  "kernelspec": {
   "display_name": "Python 3",
   "language": "python",
   "name": "python3"
  },
  "language_info": {
   "codemirror_mode": {
    "name": "ipython",
    "version": 3
   },
   "file_extension": ".py",
   "mimetype": "text/x-python",
   "name": "python",
   "nbconvert_exporter": "python",
   "pygments_lexer": "ipython3",
   "version": "3.7.1"
  }
 },
 "nbformat": 4,
 "nbformat_minor": 2
}
