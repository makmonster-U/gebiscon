{
 "cells": [
  {
   "cell_type": "code",
   "execution_count": 115,
   "metadata": {},
   "outputs": [
    {
     "name": "stdout",
     "output_type": "stream",
     "text": [
      "range(0, 14966)\n"
     ]
    },
    {
     "data": {
      "text/plain": [
       "8.298447e+20"
      ]
     },
     "execution_count": 115,
     "metadata": {},
     "output_type": "execute_result"
    }
   ],
   "source": [
    "import numpy as np\n",
    "import pandas as pd\n",
    "import math as mt\n",
    "\n",
    "df = pd.read_csv(\"test_data/data_created.csv\")    #원본파일\n",
    "df1 = pd.read_csv(\"test_data/data_ori2.csv\")   #비식별파일\n",
    "\n",
    "#일련번호순으로 정렬\n",
    "s_df = df.sort_values(by='일련번호') #index는 일련번호의미\n",
    "s_df1 = df1.sort_values(by='일련번호')\n",
    "print(range(len(s_df['신용대출한도'])))\n",
    "\n",
    "interest_column = pd.Series(['신용대출한도','월소득']) #원하는 열 선택\n",
    "np.sum(np.square(s_df[i]))"
   ]
  },
  {
   "cell_type": "code",
   "execution_count": 119,
   "metadata": {},
   "outputs": [],
   "source": [
    "#컬럼별 연산\n",
    "cos = {}\n",
    "for i in interest_column:\n",
    "    dot = np.dot(df[i], df1[i])\n",
    "    norma = np.linalg.norm(df[i])\n",
    "    normb = np.linalg.norm(df1[i])\n",
    "    cos[i] = dot / (norma * normb)"
   ]
  },
  {
   "cell_type": "code",
   "execution_count": 120,
   "metadata": {},
   "outputs": [
    {
     "data": {
      "text/plain": [
       "{'신용대출한도': 0.9999218445557229}"
      ]
     },
     "execution_count": 120,
     "metadata": {},
     "output_type": "execute_result"
    }
   ],
   "source": [
    "\n",
    "#컬럼별 결과 출력\n",
    "cos\n",
    "\n",
    "#최적의 결과 제공"
   ]
  },
  {
   "cell_type": "code",
   "execution_count": null,
   "metadata": {},
   "outputs": [],
   "source": [
    "0.9996022433325591"
   ]
  }
 ],
 "metadata": {
  "kernelspec": {
   "display_name": "Python 3",
   "language": "python",
   "name": "python3"
  },
  "language_info": {
   "codemirror_mode": {
    "name": "ipython",
    "version": 3
   },
   "file_extension": ".py",
   "mimetype": "text/x-python",
   "name": "python",
   "nbconvert_exporter": "python",
   "pygments_lexer": "ipython3",
   "version": "3.7.1"
  }
 },
 "nbformat": 4,
 "nbformat_minor": 2
}
